{
 "cells": [
  {
   "cell_type": "code",
   "execution_count": 1,
   "metadata": {},
   "outputs": [
    {
     "name": "stdout",
     "output_type": "stream",
     "text": [
      "6\n"
     ]
    }
   ],
   "source": [
    "import letters as le"
   ]
  },
  {
   "cell_type": "code",
   "execution_count": 2,
   "metadata": {},
   "outputs": [
    {
     "name": "stdout",
     "output_type": "stream",
     "text": [
      "[['a', ['.', '.', '.', '.', '.']], [['.', '.', '.', '.', '.', '.'], ['.', '.', '.', '.', '.', '.'], ['.', '.', '.', '.', '.', '.'], ['.', '.', '.', '.', '.', '.'], ['.', '.', '.', '.', '.', '.']]]\n"
     ]
    }
   ],
   "source": [
    "word=\"abcdef\"\n",
    "len(word)\n",
    "grille=[[word[0],['.']*(len(word)-1)],[['.']*(len(word))]*5]\n",
    "print(grille)"
   ]
  },
  {
   "cell_type": "code",
   "execution_count": 3,
   "metadata": {},
   "outputs": [],
   "source": [
    "jeu=le.Grid(word)"
   ]
  },
  {
   "cell_type": "code",
   "execution_count": 9,
   "metadata": {},
   "outputs": [
    {
     "name": "stdout",
     "output_type": "stream",
     "text": [
      "Veuillez entrer un seul caractère.\n",
      "Veuillez entrer un seul caractère.\n",
      "Veuillez entrer un seul caractère.\n",
      "Le caractère saisi est : z\n"
     ]
    }
   ],
   "source": [
    "caractere = input(\"Entrez un caractère : \")\n",
    "while len(caractere) != 1:\n",
    "    print(\"Veuillez entrer un seul caractère.\")\n",
    "    caractere = input(\"Entrez un caractère : \")\n",
    "else:\n",
    "    print(\"Le caractère saisi est :\", caractere)"
   ]
  },
  {
   "cell_type": "code",
   "execution_count": 10,
   "metadata": {},
   "outputs": [],
   "source": [
    "import msvcrt\n",
    "\n",
    "def get_key():\n",
    "    key = msvcrt.getch()\n",
    "    if key == b'\\t':\n",
    "        return \"Tab\"\n",
    "    elif key == b'\\r':\n",
    "        return \"Retour\"\n",
    "    elif key == b'\\x08':  # Detection de la touche de suppression (Backspace)\n",
    "        return \"Suppression\"\n",
    "    else:\n",
    "        return key.decode()"
   ]
  },
  {
   "cell_type": "code",
   "execution_count": 11,
   "metadata": {},
   "outputs": [],
   "source": [
    "get_key()\n"
   ]
  }
 ],
 "metadata": {
  "kernelspec": {
   "display_name": "Python 3",
   "language": "python",
   "name": "python3"
  },
  "language_info": {
   "codemirror_mode": {
    "name": "ipython",
    "version": 3
   },
   "file_extension": ".py",
   "mimetype": "text/x-python",
   "name": "python",
   "nbconvert_exporter": "python",
   "pygments_lexer": "ipython3",
   "version": "3.10.11"
  }
 },
 "nbformat": 4,
 "nbformat_minor": 2
}
